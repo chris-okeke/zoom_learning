{
 "cells": [
  {
   "cell_type": "markdown",
   "id": "42828bae",
   "metadata": {},
   "source": [
    "# Week 2"
   ]
  },
  {
   "cell_type": "markdown",
   "id": "c3eb1c51",
   "metadata": {},
   "source": [
    "# Loops"
   ]
  },
  {
   "cell_type": "markdown",
   "id": "1e2c166e",
   "metadata": {},
   "source": [
    "Looping means repeating something over and over until a particular condition is satisfied."
   ]
  },
  {
   "cell_type": "markdown",
   "id": "2d3d3f0f",
   "metadata": {},
   "source": [
    "# While loop"
   ]
  },
  {
   "cell_type": "markdown",
   "id": "dc70c0ff",
   "metadata": {},
   "source": [
    "While loops instruct your computer to continuously execute your code based on the value of a condition. This works in a similar way to branching if statements. The difference here is that the body of the block can be executed multiple times instead of just once."
   ]
  },
  {
   "cell_type": "markdown",
   "id": "98615cd8",
   "metadata": {},
   "source": [
    "In other words,In python, a while loop is used to execute a block of statements repeatedly until a given condition is satisfied. And when the condition becomes false, the line immediately after the loop in the program is executed."
   ]
  },
  {
   "cell_type": "markdown",
   "id": "ca1d5433",
   "metadata": {},
   "source": [
    "A while loop will continuously execute code depending on the value of a condition. It begins with the keyword while, followed by a comparison to be evaluated, then a colon. On the next line is the code block to be executed, indented to the right. Similar to an if statement, the code in the body will only be executed if the comparison is evaluated to be true. What sets a while loop apart, however, is that this code block will keep executing as long as the evaluation statement is true. Once the statement is no longer true, the loop exits and the next line of code will be executed.  "
   ]
  },
  {
   "cell_type": "code",
   "execution_count": 62,
   "id": "eeb71bad",
   "metadata": {},
   "outputs": [
    {
     "name": "stdout",
     "output_type": "stream",
     "text": [
      "Not there yet, x = 0\n",
      "Not there yet, x = 1\n",
      "Not there yet, x = 2\n",
      "Not there yet, x = 3\n",
      "Not there yet, x = 4\n",
      "x = 5\n"
     ]
    }
   ],
   "source": [
    "y = 0\n",
    "while y < 5:\n",
    "    print(\"Not there yet, x = \" + str(y))\n",
    "    y = y + 1\n",
    "print(\"x = \" + str(y))"
   ]
  },
  {
   "cell_type": "code",
   "execution_count": 63,
   "id": "a65e2c52",
   "metadata": {},
   "outputs": [
    {
     "name": "stdout",
     "output_type": "stream",
     "text": [
      "Welcome to Jifunz!\n",
      "Welcome to Jifunz!\n",
      "Welcome to Jifunz!\n"
     ]
    }
   ],
   "source": [
    "count = 0\n",
    "while count < 3:\n",
    "    count = count + 1\n",
    "    print(\"Welcome to Jifunz!\")"
   ]
  },
  {
   "cell_type": "markdown",
   "id": "80e8d1af",
   "metadata": {},
   "source": [
    "we call the first line of the above code initializing assign one number to the variable."
   ]
  },
  {
   "cell_type": "code",
   "execution_count": 1,
   "id": "51ba9fcf",
   "metadata": {},
   "outputs": [
    {
     "name": "stdout",
     "output_type": "stream",
     "text": [
      "Attempt 1\n",
      "Attempt 2\n",
      "Attempt 3\n",
      "Attempt 4\n",
      "Attempt 5\n",
      "Attempt 6\n",
      "you have 7\n"
     ]
    }
   ],
   "source": [
    "def attempts(n):\n",
    "    x = 1\n",
    "    while x <= n:\n",
    "        print(\"Attempt \" + str(x))\n",
    "        x += 1\n",
    "    print(\"you have \" + str(x))\n",
    "\n",
    "attempts(6)"
   ]
  },
  {
   "cell_type": "markdown",
   "id": "f494b290",
   "metadata": {},
   "source": [
    "You'll want to watch out for a common mistake: forgetting to initialize variables. If you try to use a variable without first initializing it, you'll run into a NameError. This is the Python interpreter catching the mistake and telling you that you’re using an undefined variable. The fix is pretty simple: initialize the variable by assigning the variable a value before you use it."
   ]
  },
  {
   "cell_type": "markdown",
   "id": "5c2ae487",
   "metadata": {},
   "source": [
    "# Infinite Loops and How to Break Them"
   ]
  },
  {
   "cell_type": "code",
   "execution_count": null,
   "id": "fa304207",
   "metadata": {},
   "outputs": [],
   "source": [
    "x = 0\n",
    "while x % 2 == 0:\n",
    "    x = x / 2"
   ]
  },
  {
   "cell_type": "code",
   "execution_count": 1,
   "id": "f9b7b115",
   "metadata": {},
   "outputs": [
    {
     "name": "stdout",
     "output_type": "stream",
     "text": [
      "1.0\n"
     ]
    }
   ],
   "source": [
    "x = 2\n",
    "if x != 0:\n",
    "    while x % 2 == 0:\n",
    "        x = x / 2\n",
    "        print(x)"
   ]
  },
  {
   "cell_type": "code",
   "execution_count": 2,
   "id": "0bb21cb1",
   "metadata": {},
   "outputs": [
    {
     "name": "stdout",
     "output_type": "stream",
     "text": [
      "2.0\n",
      "1.0\n"
     ]
    }
   ],
   "source": [
    "x = 4\n",
    "\n",
    "while x != 0 and x % 2 == 0:\n",
    "    x = x / 2\n",
    "    print(x)"
   ]
  },
  {
   "cell_type": "markdown",
   "id": "810e30b5",
   "metadata": {},
   "source": [
    "Write a function that can print the number from the range of number that user is given."
   ]
  },
  {
   "cell_type": "code",
   "execution_count": 5,
   "id": "1f4d39f6",
   "metadata": {},
   "outputs": [
    {
     "name": "stdout",
     "output_type": "stream",
     "text": [
      "1\n",
      "2\n",
      "3\n",
      "4\n",
      "5\n"
     ]
    }
   ],
   "source": [
    "def print_range(start, end):\n",
    "    while start <= end:\n",
    "        print(start)\n",
    "        start += 1\n",
    "\n",
    "print_range(1,5)"
   ]
  },
  {
   "cell_type": "markdown",
   "id": "9de05d34",
   "metadata": {},
   "source": [
    "# While Loop Exercises"
   ]
  },
  {
   "cell_type": "markdown",
   "id": "f3f46b6a",
   "metadata": {},
   "source": [
    "Print First 10 natural numbers using while loop"
   ]
  },
  {
   "cell_type": "code",
   "execution_count": 7,
   "id": "428fe37c",
   "metadata": {},
   "outputs": [
    {
     "name": "stdout",
     "output_type": "stream",
     "text": [
      "1\n",
      "2\n",
      "3\n",
      "4\n",
      "5\n",
      "6\n",
      "7\n",
      "8\n",
      "9\n",
      "10\n",
      "11\n"
     ]
    }
   ],
   "source": [
    "count = 1\n",
    "while count <= 10:\n",
    "    print(count)\n",
    "    count = count + 1"
   ]
  },
  {
   "cell_type": "markdown",
   "id": "6d16fa2a",
   "metadata": {},
   "source": [
    "Write a while loop that adds all the numbers up to 100 (inclusive)"
   ]
  },
  {
   "cell_type": "code",
   "execution_count": 10,
   "id": "b3e2d39c",
   "metadata": {},
   "outputs": [
    {
     "name": "stdout",
     "output_type": "stream",
     "text": [
      "5050\n"
     ]
    }
   ],
   "source": [
    "counter = 0\n",
    "total = 0\n",
    "\n",
    "while counter <= 100:\n",
    "    total = total + counter\n",
    "    counter += 1\n",
    "print(total)"
   ]
  },
  {
   "cell_type": "markdown",
   "id": "546e289e",
   "metadata": {},
   "source": [
    "write while loop that prints the multiples of 5 between 1 and 50."
   ]
  },
  {
   "cell_type": "code",
   "execution_count": 11,
   "id": "83b4a1d8",
   "metadata": {},
   "outputs": [
    {
     "name": "stdout",
     "output_type": "stream",
     "text": [
      "5\n",
      "10\n",
      "15\n",
      "20\n",
      "25\n",
      "30\n",
      "35\n",
      "40\n",
      "45\n",
      "50\n",
      "Done\n"
     ]
    }
   ],
   "source": [
    "multiplier = 1\n",
    "result = multiplier * 5\n",
    "while result <= 50:\n",
    "    print(result)\n",
    "    multiplier += 1\n",
    "    result = multiplier * 5\n",
    "print(\"Done\")"
   ]
  },
  {
   "cell_type": "markdown",
   "id": "7961fafa",
   "metadata": {},
   "source": [
    "write a function called print_numbers that takes a positive integer n as input and prints all the numbers from 1 to n."
   ]
  },
  {
   "cell_type": "code",
   "execution_count": 18,
   "id": "1cf0dab4",
   "metadata": {},
   "outputs": [
    {
     "name": "stdout",
     "output_type": "stream",
     "text": [
      "1\n",
      "2\n",
      "3\n",
      "4\n",
      "5\n",
      "6\n",
      "7\n",
      "8\n",
      "9\n",
      "10\n"
     ]
    }
   ],
   "source": [
    "def print_numbers(n):\n",
    "    if n <= 0:\n",
    "        print(\"Please enter a positive number.\")\n",
    "    index = 1\n",
    "    while index <= n:\n",
    "        print(index)\n",
    "        index += 1\n",
    "        \n",
    "print_numbers(10)"
   ]
  },
  {
   "cell_type": "markdown",
   "id": "88165c54",
   "metadata": {},
   "source": [
    "write a function called print_even_numbers that takes a positive integer n as input and prints all the even numbers from 2 to n."
   ]
  },
  {
   "cell_type": "code",
   "execution_count": 6,
   "id": "4ab440c9",
   "metadata": {},
   "outputs": [
    {
     "name": "stdout",
     "output_type": "stream",
     "text": [
      "2\n",
      "4\n",
      "6\n",
      "8\n",
      "10\n",
      "12\n",
      "14\n",
      "16\n",
      "18\n",
      "20\n"
     ]
    }
   ],
   "source": [
    "def print_even_numbers(n):\n",
    "    if n < 2:\n",
    "        print(\"Please enter a positive number greater than 2\")\n",
    "    index = 2\n",
    "    while index <= n:\n",
    "        print(index)\n",
    "        index = index + 2\n",
    "\n",
    "print_even_numbers(20)"
   ]
  },
  {
   "cell_type": "markdown",
   "id": "17c08c57",
   "metadata": {},
   "source": [
    "Write a Python function called calculate_factorial that takes a positive integer as input and calculates its factorial. The factorial of a number is the product of all positive integers from 1 to the given number. 5! = 5x4x3x2x1"
   ]
  },
  {
   "cell_type": "code",
   "execution_count": 20,
   "id": "e58541ca",
   "metadata": {},
   "outputs": [
    {
     "data": {
      "text/plain": [
       "120"
      ]
     },
     "execution_count": 20,
     "metadata": {},
     "output_type": "execute_result"
    }
   ],
   "source": [
    "def calculate_factorial(number):\n",
    "    if number < 0:\n",
    "        return \"Please enter positive number\"\n",
    "    elif number == 0 and number == 1:\n",
    "        return 1\n",
    "    else:\n",
    "        index = 1\n",
    "        result = 1\n",
    "        while index <= number:\n",
    "            result *= index\n",
    "            index += 1\n",
    "        return result\n",
    "\n",
    "calculate_factorial(15)"
   ]
  },
  {
   "cell_type": "markdown",
   "id": "85c4d645",
   "metadata": {},
   "source": [
    "We use an if statement to handle the special case when the number is 0. In this case, the factorial is defined as 1, so we return 1.\n",
    "\n",
    "For other positive numbers, we initialize a variable factorial to keep track of the factorial and set it to 1. Additionally, we initialize an index variable index to iterate over the positive integers from 1 to number and set it to 1.\n",
    "\n",
    "We use a while loop to iterate until the index reaches the number. Inside the loop, we multiply the current factorial with the index and update the factorial accordingly. After each iteration, we increment the index by 1 to move to the next positive integer.\n",
    "\n",
    "Finally, we return the factorial as the output, which represents the factorial of the given number."
   ]
  },
  {
   "cell_type": "markdown",
   "id": "aa8dc51d",
   "metadata": {},
   "source": [
    "Write a Python function called find_first_digit that takes a positive integer as input and finds the first digit of that number. The function should return the first digit as an integer."
   ]
  },
  {
   "cell_type": "code",
   "execution_count": 6,
   "id": "104ede03",
   "metadata": {},
   "outputs": [],
   "source": [
    "number = 78"
   ]
  },
  {
   "cell_type": "code",
   "execution_count": 7,
   "id": "d3aaf4de",
   "metadata": {},
   "outputs": [
    {
     "data": {
      "text/plain": [
       "7"
      ]
     },
     "execution_count": 7,
     "metadata": {},
     "output_type": "execute_result"
    }
   ],
   "source": [
    "number // 10"
   ]
  },
  {
   "cell_type": "code",
   "execution_count": 53,
   "id": "57a9f116",
   "metadata": {},
   "outputs": [
    {
     "data": {
      "text/plain": [
       "1"
      ]
     },
     "execution_count": 53,
     "metadata": {},
     "output_type": "execute_result"
    }
   ],
   "source": [
    "def find_first_digit(number):\n",
    "    if number < 0:\n",
    "        print(\"enter the positive integer!\")\n",
    "    else:\n",
    "        while number >= 10:\n",
    "            number = number // 10\n",
    "        return number\n",
    "\n",
    "find_first_digit(1213)"
   ]
  },
  {
   "cell_type": "markdown",
   "id": "bd851c37",
   "metadata": {},
   "source": [
    "Write a Python function called find_last_digit that takes a positive integer as input and finds the last digit of that number. The function should return the last digit as an integer."
   ]
  },
  {
   "cell_type": "code",
   "execution_count": 54,
   "id": "33c1587e",
   "metadata": {},
   "outputs": [],
   "source": [
    "number = 681253"
   ]
  },
  {
   "cell_type": "code",
   "execution_count": 55,
   "id": "14df4bd8",
   "metadata": {},
   "outputs": [
    {
     "data": {
      "text/plain": [
       "3"
      ]
     },
     "execution_count": 55,
     "metadata": {},
     "output_type": "execute_result"
    }
   ],
   "source": [
    "number % 10"
   ]
  },
  {
   "cell_type": "code",
   "execution_count": 56,
   "id": "dadc74b3",
   "metadata": {},
   "outputs": [
    {
     "data": {
      "text/plain": [
       "6"
      ]
     },
     "execution_count": 56,
     "metadata": {},
     "output_type": "execute_result"
    }
   ],
   "source": [
    "def find_last_digit(number):\n",
    "    if number < 0:\n",
    "        print(\"Enter a positive integer!\")\n",
    "    else:\n",
    "        while number >= 10:\n",
    "            number = number % 10\n",
    "        return number\n",
    "\n",
    "find_last_digit(45678176)"
   ]
  },
  {
   "cell_type": "markdown",
   "id": "c964f9b2",
   "metadata": {},
   "source": [
    "write a function called reverse_digits that takes a positive integer as input and returns the integer with its digits reversed."
   ]
  },
  {
   "cell_type": "code",
   "execution_count": null,
   "id": "e849c14e",
   "metadata": {},
   "outputs": [],
   "source": [
    "def reverse_digits(number):\n",
    "    if number < 0:\n",
    "        return None  # Handling negative numbers\n",
    "\n",
    "    reversed_number = 0\n",
    "    while number > 0:\n",
    "        digit = number % 10\n",
    "        reversed_number = reversed_number * 10 + digit\n",
    "        number //= 10\n",
    "\n",
    "    return reversed_number\n",
    "\n",
    "# Test the function\n",
    "result = reverse_digits(12345)\n",
    "print(result)  # Output: 54321\n"
   ]
  },
  {
   "cell_type": "markdown",
   "id": "baae4920",
   "metadata": {},
   "source": [
    "- We first check if number is a negative number. If it is, we return None as we are handling only positive integers.\n",
    "- We initialize a variable reversed_number to 0. This variable will store the reversed integer as we build it digit by digit.\n",
    "- We use a while loop that continues until number becomes 0. In each iteration:\n",
    "- We extract the last digit of number using the modulo operator % and store it in the variable digit.\n",
    "- We add the digit to the reversed_number after shifting the reversed_number one place to the left (by multiplying it by 10).\n",
    "- We remove the last digit from number by performing integer division number //= 10.\n",
    "- The loop continues until all digits of the original number are processed and number becomes 0."
   ]
  },
  {
   "cell_type": "markdown",
   "id": "f437ad1e",
   "metadata": {},
   "source": [
    "write a function called count_divisible_by_three that takes a positive integer n as input and counts the number of integers from 1 to n (inclusive) that are divisible by three."
   ]
  },
  {
   "cell_type": "code",
   "execution_count": 33,
   "id": "67842120",
   "metadata": {},
   "outputs": [
    {
     "name": "stdout",
     "output_type": "stream",
     "text": [
      "3\n"
     ]
    }
   ],
   "source": [
    "def count_divisible_by_three(n):\n",
    "    if n <= 0:\n",
    "        return None  # Handling non-positive numbers\n",
    "\n",
    "    count = 0\n",
    "    current_number = 1\n",
    "\n",
    "    while current_number <= n:\n",
    "        if current_number % 3 == 0:\n",
    "            count += 1\n",
    "        current_number += 1\n",
    "\n",
    "    return count\n",
    "\n",
    "# Test the function\n",
    "result = count_divisible_by_three(10)\n",
    "print(result)  # Output: 3 (3, 6, and 9 are divisible by 3)\n"
   ]
  },
  {
   "cell_type": "markdown",
   "id": "bd9eecd8",
   "metadata": {},
   "source": [
    "- We first check if n is non-positive (less than or equal to 0). If it is, we return None as we are handling only positive integers.\n",
    "- We initialize a variable count to 0. This variable will store the count of integers that are divisible by three.\n",
    "- We initialize a variable current_number to 1. This variable will be used to loop through the positive integers from 1 to n.\n",
    "- We use a while loop that continues until current_number becomes greater than n. In each iteration:\n",
    "- We use an if statement to check if current_number is divisible by three (i.e., current_number % 3 == 0).\n",
    "- If it is divisible by three, we increment the count by 1.\n",
    "- We increment current_number by 1 to move to the next positive integer.\n",
    "- The loop continues until all positive integers from 1 to n are processed."
   ]
  },
  {
   "cell_type": "markdown",
   "id": "6c1018dd",
   "metadata": {},
   "source": [
    "# Quiz"
   ]
  },
  {
   "cell_type": "markdown",
   "id": "aecd2e4d",
   "metadata": {},
   "source": [
    "In Python, what do while loops do?"
   ]
  },
  {
   "cell_type": "markdown",
   "id": "1ac2c513",
   "metadata": {},
   "source": [
    "\n",
    "while loops tell the computer to repeatedly execute a set of instructions while a condition is true.  "
   ]
  },
  {
   "cell_type": "code",
   "execution_count": 10,
   "id": "4a31ef67",
   "metadata": {},
   "outputs": [
    {
     "name": "stdout",
     "output_type": "stream",
     "text": [
      "False\n",
      "True\n",
      "True\n",
      "False\n"
     ]
    }
   ],
   "source": [
    "def is_power_of_two(number):\n",
    "  # This while loop checks if the \"number\" can be divided by two\n",
    "  if number <= 0:\n",
    "        return False\n",
    "  # without leaving a remainder. How can you change the while loop to\n",
    "  # avoid a Python ZeroDivisionError?\n",
    "  while number % 2 == 0:\n",
    "    number = number / 2\n",
    "  # If after dividing by 2 \"number\" equals 1, then \"number\" is a power\n",
    "  # of 2.\n",
    "  if number == 1:\n",
    "    return True\n",
    "  return False\n",
    "  \n",
    "\n",
    "# Calls to the function\n",
    "print(is_power_of_two(0)) # Should be False\n",
    "print(is_power_of_two(1)) # Should be True\n",
    "print(is_power_of_two(8)) # Should be True\n",
    "print(is_power_of_two(9)) # Should be False"
   ]
  },
  {
   "cell_type": "markdown",
   "id": "38f0451c",
   "metadata": {},
   "source": [
    "Fill in the blanks to complete the while loop so that it returns the sum of all the divisors of a number, without including the number itself. As a reminder, a divisor is a number that divides into another without a remainder. To do this, you will need to:\n",
    "- Initialize the \"divisor\" and \"total\" variables with starting values\n",
    "- Complete the while loop condition\n",
    "- Increment the \"divisor\" variable inside the while loop\n",
    "- Complete the return statement"
   ]
  },
  {
   "cell_type": "code",
   "execution_count": 11,
   "id": "fb29c4fe",
   "metadata": {},
   "outputs": [
    {
     "name": "stdout",
     "output_type": "stream",
     "text": [
      "0\n",
      "1\n",
      "55\n",
      "114\n"
     ]
    }
   ],
   "source": [
    "# Fill in the blanks so that the while loop continues to run while the\n",
    "# \"divisor\" variable is less than the \"number\" parameter.\n",
    "\n",
    "def sum_divisors(number):\n",
    "# Initialize the appropriate variables\n",
    "  divisor = 1\n",
    "  total = 0\n",
    "\n",
    "  # Avoid dividing by 0 and negative numbers \n",
    "  # in the while loop by exiting the function\n",
    "  # if \"number\" is less than one\n",
    "  if number < 1:\n",
    "    return 0 \n",
    "\n",
    "  # Complete the while loop\n",
    "  while divisor < number:\n",
    "    if number % divisor == 0:\n",
    "      total += divisor\n",
    "    # Increment the correct variable\n",
    "    divisor += 1\n",
    "\n",
    "  # Return the correct variable \n",
    "  return total\n",
    "\n",
    "\n",
    "print(sum_divisors(0)) # Should print 0\n",
    "print(sum_divisors(3)) # Should print 1\n",
    "# 1\n",
    "print(sum_divisors(36)) # Should print 1+2+3+4+6+9+12+18\n",
    "# 55\n",
    "print(sum_divisors(102)) # Should print 1+2+3+6+17+34+51\n",
    "# 114\n"
   ]
  },
  {
   "cell_type": "markdown",
   "id": "21e9de76",
   "metadata": {},
   "source": [
    "Fill in the blanks to complete the function, which should output a multiplication table. The function accepts a variable “number” through its parameters. This “number” variable should be multiplied by the numbers 1 through 5, and printed in a format similar to “1x6=6” (“number” x “multiplier” = “result”). The code should also limit the “result” to not exceed 25. To satisfy these conditions, you will need to:\n",
    "- Initialize the “multiplier\" variable with the starting value\n",
    "- Complete the while loop condition\n",
    "- Add an exit point for the loop\n",
    "- Increment the “multiplier\" variable inside the while loop"
   ]
  },
  {
   "cell_type": "code",
   "execution_count": 12,
   "id": "8e35d4aa",
   "metadata": {},
   "outputs": [
    {
     "name": "stdout",
     "output_type": "stream",
     "text": [
      "3x1=3\n",
      "3x2=6\n",
      "3x3=9\n",
      "3x4=12\n",
      "3x5=15\n",
      "5x1=5\n",
      "5x2=10\n",
      "5x3=15\n",
      "5x4=20\n",
      "5x5=25\n",
      "8x1=8\n",
      "8x2=16\n",
      "8x3=24\n"
     ]
    }
   ],
   "source": [
    "def multiplication_table(number):\n",
    "    # Initialize the appropriate variable\n",
    "    multiplier = 1\n",
    "\n",
    "    # Complete the while loop condition.\n",
    "    while multiplier <= 5:\n",
    "        result = number * multiplier \n",
    "        if  result > 25 :\n",
    "            # Enter the action to take if the result is greater than 25\n",
    "            break\n",
    "        print(str(number) + \"x\" + str(multiplier) + \"=\" + str(result))\n",
    "        \n",
    "        # Increment the appropriate variable\n",
    "        multiplier += 1\n",
    "\n",
    "\n",
    "multiplication_table(3) \n",
    "# Should print: \n",
    "# 3x1=3 \n",
    "# 3x2=6 \n",
    "# 3x3=9 \n",
    "# 3x4=12 \n",
    "# 3x5=15\n",
    "\n",
    "multiplication_table(5) \n",
    "# Should print: \n",
    "# 5x1=5\n",
    "# 5x2=10\n",
    "# 5x3=15\n",
    "# 5x4=20\n",
    "# 5x5=25\n",
    "\n",
    "multiplication_table(8) \n",
    "# Should print:\n",
    "# 8x1=8\n",
    "# 8x2=16\n",
    "# 8x3=24\n"
   ]
  },
  {
   "cell_type": "markdown",
   "id": "b2a84fe1",
   "metadata": {},
   "source": [
    "# For loop"
   ]
  },
  {
   "cell_type": "markdown",
   "id": "614bab67",
   "metadata": {},
   "source": [
    "For loops allow you to iterate over a sequence of values. For loops can iterate over a sequence of numbers using the \"range\" functions. "
   ]
  },
  {
   "cell_type": "code",
   "execution_count": 57,
   "id": "9de71e93",
   "metadata": {},
   "outputs": [
    {
     "name": "stdout",
     "output_type": "stream",
     "text": [
      "0\n",
      "1\n",
      "2\n",
      "3\n",
      "4\n"
     ]
    }
   ],
   "source": [
    "for x in range(5):\n",
    "    print(x)"
   ]
  },
  {
   "cell_type": "markdown",
   "id": "547eb7a3",
   "metadata": {},
   "source": [
    "Similar to if statements and while loops, for loops begin with the keyword for with a colon at the end of the line. Just like in function definitions, while loops and if statements, the body of the for loop begins on the next line and is indented to the right. But what about the stuff in between the for keyword and the colon? In our example, we’re using the range() function to create a sequence of numbers that our for loop can iterate over. In this case, our variable x points to the current element in the sequence as the for loop iterates over the sequence of numbers. Keep in mind that in Python and many programming languages, a range of numbers will start at 0, and the list of numbers generated will be one less than the provided value. So range(5) will generate a sequence of numbers from 0 to 4, for a total of 5 numbers."
   ]
  },
  {
   "cell_type": "markdown",
   "id": "ce331d76",
   "metadata": {},
   "source": [
    "Bringing this all together, the range(5) function will create a sequence of numbers from 0 to 4. Our for loop will iterate over this sequence of numbers, one at a time, making the numbers accessible via the variable x and the code within our loop body will execute for each iteration through the sequence. So for the first loop, x will contain 0, the next loop, 1, and so on until it reaches 4. Once the end of the sequence comes up, the loop will exit and the code will continue."
   ]
  },
  {
   "cell_type": "code",
   "execution_count": 62,
   "id": "093b82ba",
   "metadata": {},
   "outputs": [
    {
     "name": "stdout",
     "output_type": "stream",
     "text": [
      "1\n",
      "2\n",
      "3\n",
      "4\n",
      "5\n",
      "6\n",
      "7\n",
      "8\n",
      "9\n",
      "10\n",
      "Done\n"
     ]
    }
   ],
   "source": [
    "for x in range(1, 11):\n",
    "    print(x)\n",
    "print('Done')"
   ]
  },
  {
   "cell_type": "markdown",
   "id": "3e7e3247",
   "metadata": {},
   "source": [
    "The power of for loops comes from the fact that it can iterate over a sequence of any kind of data, not just a range of numbers. You can use for loops to iterate over a list of strings, such as usernames or lines in a file."
   ]
  },
  {
   "cell_type": "markdown",
   "id": "f18b15f2",
   "metadata": {},
   "source": [
    "calculating the products of all numbers from 1 to 10."
   ]
  },
  {
   "cell_type": "code",
   "execution_count": 66,
   "id": "0eb199c4",
   "metadata": {},
   "outputs": [
    {
     "name": "stdout",
     "output_type": "stream",
     "text": [
      "1\n",
      "2\n",
      "6\n",
      "24\n",
      "120\n",
      "720\n",
      "5040\n",
      "40320\n",
      "362880\n",
      "3628800\n"
     ]
    }
   ],
   "source": [
    "a = 1\n",
    "for n in range(1, 10+1):\n",
    "    a = a * n\n",
    "    print(a)"
   ]
  },
  {
   "cell_type": "markdown",
   "id": "0951e6e6",
   "metadata": {},
   "source": [
    "range(stop)\n",
    "\n",
    "- range(3) \n",
    "\n",
    "- range(3+1) \n",
    "\n",
    "range(start, stop)\n",
    "\n",
    "- range(2, 6)     \n",
    "\n",
    "- range(5,10+1) \n",
    "\n",
    "range(start, stop, step)\n",
    "\n",
    "- range(4, 15+1, 2)         \n",
    "\n",
    "- range(2*2, 25, 3+2) \n",
    "\n",
    "- range(10, 0, -2)  "
   ]
  },
  {
   "cell_type": "code",
   "execution_count": 75,
   "id": "74eb4bea",
   "metadata": {},
   "outputs": [
    {
     "name": "stdout",
     "output_type": "stream",
     "text": [
      "0\n",
      "2\n",
      "4\n",
      "6\n",
      "8\n",
      "10\n"
     ]
    }
   ],
   "source": [
    "for n in range(0,10+1,2):\n",
    "    print(n)"
   ]
  },
  {
   "cell_type": "code",
   "execution_count": 74,
   "id": "95feb756",
   "metadata": {},
   "outputs": [
    {
     "name": "stdout",
     "output_type": "stream",
     "text": [
      "1\n"
     ]
    }
   ],
   "source": [
    "for n in range(1, 5+1, 6):\n",
    "    print(n)"
   ]
  },
  {
   "cell_type": "code",
   "execution_count": 76,
   "id": "9ec7ad2f",
   "metadata": {},
   "outputs": [
    {
     "name": "stdout",
     "output_type": "stream",
     "text": [
      "2 6\n",
      "3 9\n",
      "4 12\n",
      "5 15\n",
      "6 18\n",
      "7 21\n"
     ]
    }
   ],
   "source": [
    "for n in range(2, 7+1):\n",
    "    print(n, n*3)"
   ]
  },
  {
   "cell_type": "code",
   "execution_count": 78,
   "id": "eae0e43f",
   "metadata": {},
   "outputs": [
    {
     "name": "stdout",
     "output_type": "stream",
     "text": [
      "2\n",
      "1\n",
      "0\n",
      "-1\n"
     ]
    }
   ],
   "source": [
    "for n in range(2, -2, -1):\n",
    "    print(n)"
   ]
  },
  {
   "cell_type": "code",
   "execution_count": 79,
   "id": "7de0b543",
   "metadata": {},
   "outputs": [],
   "source": [
    "def to_celsius(number):\n",
    "    return (number - 32) * 5 / 9"
   ]
  },
  {
   "cell_type": "code",
   "execution_count": 81,
   "id": "0bcb3462",
   "metadata": {},
   "outputs": [
    {
     "name": "stdout",
     "output_type": "stream",
     "text": [
      "0 -17.77777777777778\n",
      "10 -12.222222222222221\n",
      "20 -6.666666666666667\n",
      "30 -1.1111111111111112\n",
      "40 4.444444444444445\n",
      "50 10.0\n",
      "60 15.555555555555555\n",
      "70 21.11111111111111\n",
      "80 26.666666666666668\n",
      "90 32.22222222222222\n",
      "100 37.77777777777778\n"
     ]
    }
   ],
   "source": [
    "for n in range(0,101,10):\n",
    "    print(n, to_celsius(n))"
   ]
  },
  {
   "cell_type": "markdown",
   "id": "258289d8",
   "metadata": {},
   "source": [
    "# for Loops vs. while Loops\n",
    "\n",
    "for loops and while loops share several characteristics. Both loops can be used with a variety of data types, both can be nested, and both can be used with the keywords break and continue. However, there are important differences between the two types of loops: \n",
    "\n",
    "- while loops are used when a segment of code needs to execute repeatedly while a condition is true\n",
    "\n",
    "- for loops iterate over a sequence of elements, executing the body of the loop for each element in the sequence"
   ]
  },
  {
   "cell_type": "markdown",
   "id": "ea1c6381",
   "metadata": {},
   "source": [
    "# Nested for Loops\n",
    "\n",
    "In Python, a loop inside a loop is known as a nested loop. "
   ]
  },
  {
   "cell_type": "code",
   "execution_count": 86,
   "id": "55588fa7",
   "metadata": {},
   "outputs": [
    {
     "name": "stdout",
     "output_type": "stream",
     "text": [
      "This is the outer loop iteration number 0\n",
      "Inner loop iteration number 0\n",
      "Inner loop iteration number 1\n",
      "Inner loop iteration number 2\n",
      "Inner loop iteration number 3\n",
      "Exit inner loop\n",
      "This is the outer loop iteration number 1\n",
      "Inner loop iteration number 0\n",
      "Inner loop iteration number 1\n",
      "Inner loop iteration number 2\n",
      "Inner loop iteration number 3\n",
      "Exit inner loop\n",
      "Exit from the nested loops\n"
     ]
    }
   ],
   "source": [
    "for x in range(2):\n",
    "    print(\"This is the outer loop iteration number \" + str(x))\n",
    "    for y in range(0, 4):\n",
    "        print(\"Inner loop iteration number \" + str(y))\n",
    "    print(\"Exit inner loop\")\n",
    "print(\"Exit from the nested loops\")"
   ]
  },
  {
   "cell_type": "markdown",
   "id": "b5418405",
   "metadata": {},
   "source": [
    "imagine we wanted to write a program that prints each Domino Tile in a set. If we take all of the tiles that have zero on the left, we can print tiles with numbers from zero to six on the right. That should be easy to do with a for loop. But what about tiles that have one on the left? Well, we need to skip the one zero tile, because that one was already printed as zero one. So we can print a list of tiles with one on the left and numbers from one to six on the right. When we look at two, we would need to skip both zero and one, and so on. Are you following along? How do you think we'd write the code for this? Turning this into code means that we'd need to write two for loops, one inside the other. This is what we call nested for loops"
   ]
  },
  {
   "cell_type": "code",
   "execution_count": 87,
   "id": "ba8f0795",
   "metadata": {},
   "outputs": [
    {
     "name": "stdout",
     "output_type": "stream",
     "text": [
      "[0|0] [0|1] [0|2] [0|3] [0|4] [0|5] [0|6] \n",
      "[1|1] [1|2] [1|3] [1|4] [1|5] [1|6] \n",
      "[2|2] [2|3] [2|4] [2|5] [2|6] \n",
      "[3|3] [3|4] [3|5] [3|6] \n",
      "[4|4] [4|5] [4|6] \n",
      "[5|5] [5|6] \n",
      "[6|6] \n"
     ]
    }
   ],
   "source": [
    "for left in range(0, 7):\n",
    "    for right in range(left, 7):\n",
    "        print(\"[\" + str(left) + \"|\" + str(right) + \"]\", end = \" \")\n",
    "    print()"
   ]
  },
  {
   "cell_type": "markdown",
   "id": "07f4f555",
   "metadata": {},
   "source": [
    "We want to write a script that will output all possible team pairings. For this, the order of the names matters because for each game, the first name will be the home team and the second name is the away team."
   ]
  },
  {
   "cell_type": "markdown",
   "id": "ef9c8875",
   "metadata": {},
   "source": [
    "we need to use a conditional that makes sure we only print the pairing when the names are different."
   ]
  },
  {
   "cell_type": "code",
   "execution_count": 89,
   "id": "2aa8e8a8",
   "metadata": {},
   "outputs": [],
   "source": [
    "teams = [\"Dragons\", \"Wolves\", \"Pandas\", \"Unicorns\"]"
   ]
  },
  {
   "cell_type": "code",
   "execution_count": 92,
   "id": "687dcfe3",
   "metadata": {},
   "outputs": [
    {
     "name": "stdout",
     "output_type": "stream",
     "text": [
      "Dragons VS Wolves\n",
      "Dragons VS Pandas\n",
      "Dragons VS Unicorns\n",
      "Wolves VS Dragons\n",
      "Wolves VS Pandas\n",
      "Wolves VS Unicorns\n",
      "Pandas VS Dragons\n",
      "Pandas VS Wolves\n",
      "Pandas VS Unicorns\n",
      "Unicorns VS Dragons\n",
      "Unicorns VS Wolves\n",
      "Unicorns VS Pandas\n"
     ]
    }
   ],
   "source": [
    "for home_team in teams:\n",
    "    for away_team in teams:\n",
    "        if home_team != away_team:\n",
    "            print(home_team + \" VS \" + away_team)"
   ]
  },
  {
   "cell_type": "code",
   "execution_count": 105,
   "id": "31deb96f",
   "metadata": {},
   "outputs": [
    {
     "data": {
      "text/plain": [
       "[12, 13, 565, 567, 'John', 'Joe']"
      ]
     },
     "execution_count": 105,
     "metadata": {},
     "output_type": "execute_result"
    }
   ],
   "source": [
    "name_list = [12, 13, 565, 567, \"John\", \"Joe\"]\n",
    "name_list"
   ]
  },
  {
   "cell_type": "code",
   "execution_count": 106,
   "id": "b177bf84",
   "metadata": {},
   "outputs": [],
   "source": [
    "def greet_friends(friends):\n",
    "    for friend in name_list:\n",
    "        print(\"Hi \" + str(friend))"
   ]
  },
  {
   "cell_type": "code",
   "execution_count": 107,
   "id": "d2b86eb1",
   "metadata": {},
   "outputs": [
    {
     "name": "stdout",
     "output_type": "stream",
     "text": [
      "Hi 12\n",
      "Hi 13\n",
      "Hi 565\n",
      "Hi 567\n",
      "Hi John\n",
      "Hi Joe\n"
     ]
    }
   ],
   "source": [
    "greet_friends([12, 13, 565, 567, \"John\", \"Joe\"])"
   ]
  },
  {
   "cell_type": "code",
   "execution_count": 104,
   "id": "2bc85a77",
   "metadata": {},
   "outputs": [
    {
     "name": "stdout",
     "output_type": "stream",
     "text": [
      "Hi h\n",
      "Hi a\n",
      "Hi r\n",
      "Hi r\n",
      "Hi y\n"
     ]
    }
   ],
   "source": [
    "greet_friends(\"harry\")"
   ]
  },
  {
   "cell_type": "markdown",
   "id": "f4baf2cf",
   "metadata": {},
   "source": [
    "Write a block of code that can iterate over the numbers from 2 to 7 (inclusive). During each iteration of the loop, it calculates the square of the current number"
   ]
  },
  {
   "cell_type": "code",
   "execution_count": 31,
   "id": "d803a81a",
   "metadata": {},
   "outputs": [
    {
     "name": "stdout",
     "output_type": "stream",
     "text": [
      "4\n",
      "9\n",
      "16\n",
      "25\n",
      "36\n",
      "49\n"
     ]
    }
   ],
   "source": [
    "for number in range(2,8):\n",
    "    print(number**2)"
   ]
  },
  {
   "cell_type": "markdown",
   "id": "799ccd73",
   "metadata": {},
   "source": [
    "Write a block of code that can iterate over the numbers from 0 to 6 (inclusive). It then checks each number in the loop to see if it is even"
   ]
  },
  {
   "cell_type": "code",
   "execution_count": 33,
   "id": "1861b756",
   "metadata": {},
   "outputs": [
    {
     "name": "stdout",
     "output_type": "stream",
     "text": [
      "0\n",
      "2\n",
      "4\n",
      "6\n"
     ]
    }
   ],
   "source": [
    "for x in range(7):\n",
    "    if x % 2 == 0:\n",
    "        print(x)"
   ]
  },
  {
   "cell_type": "markdown",
   "id": "b0631a59",
   "metadata": {},
   "source": [
    "Write a Python function called sum_of_squares that takes a positive integer n as input and calculates the sum of the squares of all numbers from 1 to n. The function should return the computed sum"
   ]
  },
  {
   "cell_type": "markdown",
   "id": "c7308b78",
   "metadata": {},
   "source": [
    "The sum of the squares of numbers from 1 to 5 is 1^2 + 2^2 + 3^2 + 4^2 + 5^2 = 1 + 4 + 9 + 16 + 25 = 55, so the function returns 55."
   ]
  },
  {
   "cell_type": "code",
   "execution_count": 18,
   "id": "f2e4e633",
   "metadata": {},
   "outputs": [
    {
     "name": "stdout",
     "output_type": "stream",
     "text": [
      "14\n"
     ]
    }
   ],
   "source": [
    "def sum_of_squares(n):\n",
    "    sum = 0\n",
    "    for i in range(1, n + 1):\n",
    "        sum += i ** 2\n",
    "    return sum\n",
    "\n",
    "result = sum_of_squares(3)\n",
    "print(result)  # Output: 14"
   ]
  },
  {
   "cell_type": "markdown",
   "id": "a563be4b",
   "metadata": {},
   "source": [
    "Write a Python function called count_vowels_in_word that takes a word (a string) as input and counts the number of vowels (a, e, i, o, u) in the word. The function should return the count of vowels."
   ]
  },
  {
   "cell_type": "code",
   "execution_count": 19,
   "id": "5224967e",
   "metadata": {},
   "outputs": [
    {
     "name": "stdout",
     "output_type": "stream",
     "text": [
      "2\n"
     ]
    }
   ],
   "source": [
    "def count_vowels_in_word(word):\n",
    "    vowels = \"aeiou\"\n",
    "    count = 0\n",
    "    for letter in word:\n",
    "        if letter.lower() in vowels:\n",
    "            count += 1\n",
    "    return count\n",
    "result = count_vowels_in_word(\"Hello\")\n",
    "print(result)  # Output: 2\n"
   ]
  },
  {
   "cell_type": "markdown",
   "id": "5255a4ab",
   "metadata": {},
   "source": [
    "Write a Python function called sum_of_digits that takes a positive integer as input and calculates the sum of its digits. The function should return the computed sum."
   ]
  },
  {
   "cell_type": "code",
   "execution_count": 20,
   "id": "dd765457",
   "metadata": {},
   "outputs": [
    {
     "name": "stdout",
     "output_type": "stream",
     "text": [
      "15\n"
     ]
    }
   ],
   "source": [
    "def sum_of_digits(number):\n",
    "    sum = 0\n",
    "    for digit in str(number):\n",
    "        sum += int(digit)\n",
    "    return sum\n",
    "\n",
    "result = sum_of_digits(12345)\n",
    "print(result)  # Output: 15\n"
   ]
  },
  {
   "cell_type": "markdown",
   "id": "a71e263d",
   "metadata": {},
   "source": [
    "Write a Python function called count_odd_digits that takes a positive integer as input and counts the number of odd digits in it. The function should return the count of odd digits."
   ]
  },
  {
   "cell_type": "code",
   "execution_count": 23,
   "id": "f6a49546",
   "metadata": {},
   "outputs": [
    {
     "name": "stdout",
     "output_type": "stream",
     "text": [
      "0\n"
     ]
    }
   ],
   "source": [
    "def count_odd_digits(number):\n",
    "    count = 0\n",
    "    for digit in str(number):\n",
    "        if int(digit) % 2 != 0:\n",
    "            count += 1\n",
    "    return count\n",
    "result = count_odd_digits(24680)\n",
    "print(result)  # Output: 0\n"
   ]
  },
  {
   "cell_type": "markdown",
   "id": "ea7d970c",
   "metadata": {},
   "source": [
    "Write a Python function called find_max_digit that takes a positive integer as input and finds the maximum digit in it. The function should return the maximum digit as an integer."
   ]
  },
  {
   "cell_type": "code",
   "execution_count": 25,
   "id": "059b28af",
   "metadata": {},
   "outputs": [
    {
     "name": "stdout",
     "output_type": "stream",
     "text": [
      "8\n"
     ]
    }
   ],
   "source": [
    "def find_max_digit(number):\n",
    "    max_digit = 0\n",
    "    for digit in str(number):\n",
    "        if int(digit) > max_digit:\n",
    "            max_digit = int(digit)\n",
    "    return max_digit\n",
    "\n",
    "result = find_max_digit(123856)\n",
    "print(result)  # Output: 6"
   ]
  },
  {
   "cell_type": "markdown",
   "id": "b708f1d9",
   "metadata": {},
   "source": [
    "# QUIZ"
   ]
  },
  {
   "cell_type": "markdown",
   "id": "f41f53c8",
   "metadata": {},
   "source": [
    "Which option would fix this for loop to print the numbers 12, 18, 24, 30, 36?"
   ]
  },
  {
   "cell_type": "code",
   "execution_count": 34,
   "id": "b259f482",
   "metadata": {},
   "outputs": [
    {
     "name": "stdout",
     "output_type": "stream",
     "text": [
      "12\n",
      "18\n",
      "24\n",
      "30\n",
      "36\n"
     ]
    }
   ],
   "source": [
    "for n in range(6,18+1,3):\n",
    "    print(n*2)"
   ]
  },
  {
   "cell_type": "markdown",
   "id": "0b0083e5",
   "metadata": {},
   "source": [
    "Which for loops will print all even numbers from 0 to 18? Select all that apply."
   ]
  },
  {
   "cell_type": "code",
   "execution_count": 35,
   "id": "8d171a12",
   "metadata": {},
   "outputs": [
    {
     "name": "stdout",
     "output_type": "stream",
     "text": [
      "0\n",
      "2\n",
      "4\n",
      "6\n",
      "8\n",
      "10\n",
      "12\n",
      "14\n",
      "16\n",
      "18\n"
     ]
    }
   ],
   "source": [
    "for n in range(19):\n",
    "    if n % 2 == 0:\n",
    "        print(n)"
   ]
  },
  {
   "cell_type": "code",
   "execution_count": 36,
   "id": "625fab50",
   "metadata": {},
   "outputs": [
    {
     "name": "stdout",
     "output_type": "stream",
     "text": [
      "0\n",
      "2\n",
      "4\n",
      "6\n",
      "8\n",
      "10\n",
      "12\n",
      "14\n",
      "16\n",
      "18\n"
     ]
    }
   ],
   "source": [
    "for n in range(10):\n",
    "    print(n+n)"
   ]
  },
  {
   "cell_type": "markdown",
   "id": "251341cb",
   "metadata": {},
   "source": [
    "Fill in the blanks so that the for loop will print the first 10 cube numbers (x**3) in a range that starts with x=1 and ends with x=10."
   ]
  },
  {
   "cell_type": "code",
   "execution_count": 37,
   "id": "965cf53a",
   "metadata": {},
   "outputs": [
    {
     "name": "stdout",
     "output_type": "stream",
     "text": [
      "1\n",
      "8\n",
      "27\n",
      "64\n",
      "125\n",
      "216\n",
      "343\n",
      "512\n",
      "729\n",
      "1000\n"
     ]
    }
   ],
   "source": [
    "for x in range(1,11):\n",
    "  print(x**3)"
   ]
  },
  {
   "cell_type": "markdown",
   "id": "fdd0a259",
   "metadata": {},
   "source": [
    "Write a for loop with a three parameter range() function that prints the multiples of 7 between 0 and 100. Print one multiple per line and avoid printing any numbers that aren't multiples of 7. Remember that 0 is also a multiple of 7."
   ]
  },
  {
   "cell_type": "code",
   "execution_count": 38,
   "id": "de4087d0",
   "metadata": {},
   "outputs": [
    {
     "name": "stdout",
     "output_type": "stream",
     "text": [
      "0\n",
      "7\n",
      "14\n",
      "21\n",
      "28\n",
      "35\n",
      "42\n",
      "49\n",
      "56\n",
      "63\n",
      "70\n",
      "77\n",
      "84\n",
      "91\n",
      "98\n"
     ]
    }
   ],
   "source": [
    "for i in range(0, 101, 7):\n",
    "        print(i)"
   ]
  },
  {
   "cell_type": "markdown",
   "id": "f299bff1",
   "metadata": {},
   "source": [
    "# What is recursion?"
   ]
  },
  {
   "cell_type": "markdown",
   "id": "b9a23c49",
   "metadata": {},
   "source": [
    "Recursion is the repeated application of the same procedure to a smaller problem."
   ]
  },
  {
   "cell_type": "markdown",
   "id": "aa5a1750",
   "metadata": {},
   "source": [
    "In programming, recursion is a way of doing a repetitive task by having a function call itself. A recursive function calls itself usually with a modified parameter until it reaches a specific condition. This condition is called the base case.\n",
    "\n",
    "Recursion is a common mathematical and programming concept. It means that a function calls itself. This has the benefit of meaning that you can loop through data to reach a result.\n",
    "\n",
    "The developer should be very careful with recursion as it can be quite easy to slip into writing a function which never terminates, or one that uses excess amounts of memory or processor power. However, when written correctly recursion can be a very efficient and mathematically-elegant approach to programming."
   ]
  },
  {
   "cell_type": "markdown",
   "id": "827a5c9c",
   "metadata": {},
   "source": [
    "A recursive function must include a recursive case and base case. The recursive case calls the function again, with a different value. The base case returns a value without calling the same function."
   ]
  },
  {
   "cell_type": "code",
   "execution_count": null,
   "id": "181c3a9a",
   "metadata": {},
   "outputs": [],
   "source": [
    "def recursive_function(parameters):\n",
    "    if base_case_condition(parameters):\n",
    "        return base_case_value\n",
    "    recursive_function(modified_parameters)"
   ]
  },
  {
   "cell_type": "markdown",
   "id": "6587c7ac",
   "metadata": {},
   "source": [
    "Lets' define a function called factorial."
   ]
  },
  {
   "cell_type": "code",
   "execution_count": 39,
   "id": "28090194",
   "metadata": {},
   "outputs": [],
   "source": [
    "def factorial(n):\n",
    "    if n<2:\n",
    "        return 1\n",
    "    return n * factorial(n-1)"
   ]
  },
  {
   "cell_type": "markdown",
   "id": "7e382a8a",
   "metadata": {},
   "source": [
    "At the beginning of the function, we have a conditional block defining the base case"
   ]
  },
  {
   "cell_type": "markdown",
   "id": "7a317287",
   "metadata": {},
   "source": [
    "This creates a loop. Each time the function is executed, it calls itself with a smaller number until it reaches the base case. "
   ]
  },
  {
   "cell_type": "code",
   "execution_count": 40,
   "id": "f8e047e9",
   "metadata": {},
   "outputs": [
    {
     "data": {
      "text/plain": [
       "24"
      ]
     },
     "execution_count": 40,
     "metadata": {},
     "output_type": "execute_result"
    }
   ],
   "source": [
    "factorial(4)"
   ]
  },
  {
   "cell_type": "markdown",
   "id": "3679f975",
   "metadata": {},
   "source": [
    "Write a recursive function called tri_recursion that takes a single parameter k. It prints the result of a triangular recursion and then returns: For example if k=6, result = 6 + tri_recursion(5)."
   ]
  },
  {
   "cell_type": "code",
   "execution_count": 1,
   "id": "eb1eb8cd",
   "metadata": {},
   "outputs": [
    {
     "name": "stdout",
     "output_type": "stream",
     "text": [
      "\n",
      "\n",
      "Recursion Example Results\n",
      "1\n",
      "3\n",
      "6\n",
      "10\n",
      "15\n",
      "21\n"
     ]
    },
    {
     "data": {
      "text/plain": [
       "21"
      ]
     },
     "execution_count": 1,
     "metadata": {},
     "output_type": "execute_result"
    }
   ],
   "source": [
    "def tri_recursion(k):\n",
    "    if(k > 0):\n",
    "        result = k + tri_recursion(k - 1)\n",
    "        print(result)\n",
    "    else:\n",
    "        result = 0\n",
    "    return result\n",
    "\n",
    "print(\"\\n\\nRecursion Example Results\")\n",
    "tri_recursion(6)"
   ]
  },
  {
   "cell_type": "markdown",
   "id": "b6465ed7",
   "metadata": {},
   "source": [
    "In this example, tri_recursion() is a function that we have defined to call itself (\"recurse\"). We use the k variable as the data, which decrements (-1) every time we recurse. The recursion ends when the condition is not greater than 0 (i.e. when it is 0)."
   ]
  },
  {
   "cell_type": "markdown",
   "id": "ecb1e39c",
   "metadata": {},
   "source": [
    "Implement the sum_positive_numbers function, as a recursive function that returns the sum of all positive numbers between the number n received and 1. For example, when n is 3 it should return 1+2+3=6, and when n is 5 it should return 1+2+3+4+5=15."
   ]
  },
  {
   "cell_type": "code",
   "execution_count": 45,
   "id": "f15cce3b",
   "metadata": {},
   "outputs": [
    {
     "name": "stdout",
     "output_type": "stream",
     "text": [
      "6\n",
      "15\n"
     ]
    }
   ],
   "source": [
    "def sum_positive_numbers(n):\n",
    "    if n == 1:\n",
    "        return 1\n",
    "    elif n < 1:\n",
    "        return 0\n",
    "    else:\n",
    "        return n + sum_positive_numbers(n-1)\n",
    "\n",
    "print(sum_positive_numbers(3)) # Should be 6\n",
    "print(sum_positive_numbers(5)) # Should be 15"
   ]
  },
  {
   "cell_type": "markdown",
   "id": "bc3d176d",
   "metadata": {},
   "source": [
    "# Quiz"
   ]
  },
  {
   "cell_type": "markdown",
   "id": "a35e753d",
   "metadata": {},
   "source": [
    "What is recursion used for?"
   ]
  },
  {
   "cell_type": "markdown",
   "id": "084e720d",
   "metadata": {},
   "source": [
    "\n",
    "Recursion is used to call a function from inside the same function."
   ]
  },
  {
   "cell_type": "markdown",
   "id": "9fd9ee8c",
   "metadata": {},
   "source": [
    "Which of these activities are good use cases for recursive programs?"
   ]
  },
  {
   "cell_type": "markdown",
   "id": "6c8cfe93",
   "metadata": {},
   "source": [
    "Going through a file system collecting information related to directories and files.\n",
    "\n",
    "\n",
    "Managing permissions assigned to groups inside a company, when each group can contain both subgroups and users."
   ]
  },
  {
   "cell_type": "markdown",
   "id": "badb78dc",
   "metadata": {},
   "source": [
    "Fill in the blanks to make the is_power_of function return whether the number is a power of the given base. Note: base is assumed to be a positive number. Tip: for functions that return a boolean value, you can return the result of a comparison."
   ]
  },
  {
   "cell_type": "code",
   "execution_count": 6,
   "id": "a68c0d22",
   "metadata": {},
   "outputs": [
    {
     "name": "stdout",
     "output_type": "stream",
     "text": [
      "True\n",
      "True\n",
      "False\n"
     ]
    }
   ],
   "source": [
    "def is_power_of(number, base):\n",
    "  # Base case: when number is smaller than base.\n",
    "  if number < base:\n",
    "    # If number is equal to 1, it's a power (base**0).\n",
    "    return number == 1\n",
    "\n",
    "  # Recursive case: keep dividing number by base.\n",
    "  return is_power_of(number // base, base)\n",
    "\n",
    "print(is_power_of(8,2)) # Should be True\n",
    "print(is_power_of(64,4)) # Should be True\n",
    "print(is_power_of(70,10)) # Should be False"
   ]
  },
  {
   "cell_type": "markdown",
   "id": "9463d3a4",
   "metadata": {},
   "source": [
    "Base Case:\n",
    "\n",
    "The function begins by checking for a base case where the number is smaller than the base.\n",
    "If number is smaller than base, we check whether number is equal to 1. If it is, then the number is a power of the base raised to the exponent of 0 (i.e., base**0). In this case, we return True.\n",
    "If number is not equal to 1, it means number is not a power of the base, so we return False.\n",
    "\n",
    "Recursive Case:\n",
    "\n",
    "If the number is greater than or equal to the base, we enter the recursive case.\n",
    "In the recursive case, we divide the number by the base using the floor division operator // and call the is_power_of function again with the new number and the same base.\n",
    "This process continues recursively until we reach the base case (i.e., when number becomes smaller than base).\n",
    "\n",
    "Return Value:\n",
    "\n",
    "If the number is a power of the base, the recursive calls will eventually reach the base case where number == 1, and the function will return True.\n",
    "If the number is not a power of the base, the recursive calls will continue until number becomes smaller than base, and the function will return False."
   ]
  },
  {
   "cell_type": "markdown",
   "id": "ffeb3fcf",
   "metadata": {},
   "source": [
    "Implement the sum_positive_numbers function, as a recursive function that returns the sum of all positive numbers between the number n received and 1. For example, when n is 3 it should return 1+2+3=6, and when n is 5 it should return 1+2+3+4+5=15."
   ]
  },
  {
   "cell_type": "code",
   "execution_count": 44,
   "id": "16b540b8",
   "metadata": {},
   "outputs": [
    {
     "name": "stdout",
     "output_type": "stream",
     "text": [
      "6\n",
      "15\n"
     ]
    }
   ],
   "source": [
    "def sum_positive_numbers(n):\n",
    "  if n == 1:\n",
    "    return 1\n",
    "  elif n < 1:\n",
    "    return 0\n",
    "  else:\n",
    "    return n + sum_positive_numbers(n-1)\n",
    "\n",
    "print(sum_positive_numbers(3)) # Should be 6\n",
    "print(sum_positive_numbers(5)) # Should be 15"
   ]
  },
  {
   "cell_type": "markdown",
   "id": "f4968809",
   "metadata": {},
   "source": [
    "# Week 2 Recap"
   ]
  },
  {
   "cell_type": "code",
   "execution_count": 47,
   "id": "21c8f9c7",
   "metadata": {},
   "outputs": [
    {
     "name": "stdout",
     "output_type": "stream",
     "text": [
      "0 10 20 30 40 50 60 70 80 90 100\n"
     ]
    }
   ],
   "source": [
    "# This function will accept an integer variable \"end\" and count by 10\n",
    "# from 0 to the \"end\" value.\n",
    "def count_by_10(end):\n",
    "    # Initializeq the \"count\" variable as a string.\n",
    "    count = \"\"\n",
    "\n",
    "    # The range function parameters instruct Python to start the count  \n",
    "    # at 0 and stop at the variable given as the upper end of the range. \n",
    "    # Since the value of the high end of a range is excluded by default,  \n",
    "    # you can make Python include the \"end\" value by adding +1 to it. \n",
    "    # The third parameter tells Python to increment the count by 10.\n",
    "    for number in range(0,end+1,10):\n",
    "\n",
    "        # Although the variable \"count\" will hold a count of integers,  \n",
    "        # this example will be converted to a string using \"str(number)\" \n",
    "        # in order to display the incremental count from 0 to the \"end\" \n",
    "        # value on the same line with a space \" \" separating each \n",
    "        # number.  \n",
    "        count += str(number) + \" \"\n",
    "        \n",
    "    # The .strip() method will trim the final space \" \" from the end of \n",
    "    # the string \"count\"  \n",
    "    return count.strip()\n",
    "\n",
    "\n",
    "# Call the function with 1 integer parameter.\n",
    "print(count_by_10(100))\n",
    "# Should print 0 10 20 30 40 50 60 70 80 90 100"
   ]
  },
  {
   "cell_type": "code",
   "execution_count": 48,
   "id": "a3482a20",
   "metadata": {},
   "outputs": [
    {
     "name": "stdout",
     "output_type": "stream",
     "text": [
      "1 2 3 4 \n",
      "2 4 6 8 \n",
      "3 6 9 12 \n",
      "4 8 12 16 \n"
     ]
    }
   ],
   "source": [
    "# This function uses a set of nested for loops with the range() function \n",
    "# to create a matrix of numbers. The upper range value in the range() \n",
    "# function should be included in the matrix. The matrix should consist \n",
    "# of a set of numbers that fill both rows and columns.\n",
    "def matrix(initial_number, end_of_first_row):\n",
    "\n",
    "\n",
    "    # It is an optional code style to assign the long variable names in the\n",
    "    # function parameters to shorter variable names. \n",
    "    n1 = initial_number \n",
    "    n2 = end_of_first_row+1  # include the upper range value with +1\n",
    "\n",
    "    # The first for loop will create the columns.\n",
    "    for column in range(n1, n2):\n",
    "\n",
    "        # The nested for loop will create the rows.\n",
    "        for row in range(n1, n2):\n",
    "\n",
    "            # To make the matrix of numbers easier to read, include a space\n",
    "            # between each number in the rows until the loop reaches the \n",
    "            # end of the row. You can override the default behavior of the \n",
    "            # print() function (which inserts a new line character after \n",
    "            # the print command runs) by using the \"end=\" \"\" parameter \n",
    "            # inside the print() function.  \n",
    "              print(column*row, end=\" \")\n",
    "\n",
    "        # The row ends when the upper range value is encountered within the \n",
    "        # nested for loop. The outer (column) for loop should insert a new line\n",
    "        # to create the next row. Use the print() function new line default \n",
    "        # behavior with an empty print() function:\n",
    "        print()\n",
    "\n",
    "\n",
    "# Call the function with 2 integer parameters. \n",
    "matrix(1, 4)\n",
    "# Should print:\n",
    "# 1 2 3 4 \n",
    "# 2 4 6 8 \n",
    "# 3 6 9 12 \n",
    "# 4 8 12 16 \n"
   ]
  },
  {
   "cell_type": "code",
   "execution_count": 50,
   "id": "647c95ef",
   "metadata": {},
   "outputs": [
    {
     "name": "stdout",
     "output_type": "stream",
     "text": [
      "11 9 7 5 3 1 "
     ]
    }
   ],
   "source": [
    "# This function should count down by -2 from 11 to 1, so that it only\n",
    "# prints odd numbers. \n",
    "\n",
    "# This range(11, -2) tells the for loop to start at 11 and end at index\n",
    "# position -2 (which corresponds to the numeric value of -1). Since the\n",
    "# third incremental or decremental value is missing, the loop will \n",
    "# increment by the default of +1 instead of the intended -2 decrement.\n",
    "# Starting at index position 11 and incrementing by +1 will end the loop \n",
    "# automatically, because the index is not counting down towards -2 as \n",
    "# the end of the range. \n",
    "\n",
    "# To fix this problem, the range() needs three parameters:\n",
    "# First parameter should be the starting index position of 11.\n",
    "# Second parameter should be the ending index position of 0 (value 1).\n",
    "# Third parameter should be decrementing by -2.\n",
    "# So, the range should be configured as range(11, 0, -2).\n",
    "\n",
    "# Fix this loop with the corrected range parameters and click Run.\n",
    "for n in range(11, 0, -2):\n",
    "    if n % 2 != 0:\n",
    "        print(n, end=\" \")\n",
    "\n",
    "# Should print: 11, 9, 7, 5, 3, 1 once the problem is fixed."
   ]
  },
  {
   "cell_type": "code",
   "execution_count": 51,
   "id": "c51298bd",
   "metadata": {},
   "outputs": [
    {
     "name": "stdout",
     "output_type": "stream",
     "text": [
      "18 15 12 9 6 3 0 "
     ]
    }
   ],
   "source": [
    "# For this example, the while loop will count down by threes starting \n",
    "# from 18 and ending at 0.\n",
    "starting_number = 18\n",
    "\n",
    "# The while loop will continue to loop until it reaches 0.\n",
    "while starting_number >= 0:\n",
    "\n",
    "    # To make the sequence of numbers easier to read, include a space\n",
    "    # between each number in the sequence. You can override the default \n",
    "    # behavior of the print() function by using the \"end=\" parameter with\n",
    "    # the print() function. The syntax for adding a space is: end=\" \" \n",
    "    print(starting_number, end=\" \")\n",
    "    \n",
    "    # Decrement the \"starting_number\" variable by -3.\n",
    "    starting_number -= 3\n",
    "\n",
    "# Should print 18 15 12 9 6 3 0 \n"
   ]
  },
  {
   "cell_type": "code",
   "execution_count": 52,
   "id": "cd76a598",
   "metadata": {},
   "outputs": [
    {
     "name": "stdout",
     "output_type": "stream",
     "text": [
      "Going up: 1 | 2 | 3 | 4\n",
      "Going down: 6 | 5 | 4 | 3 | 2\n"
     ]
    }
   ],
   "source": [
    "# This function will accept two integer variables: the floor\n",
    "# number that a passenger \"enter\"s an elevator and the floor\n",
    "# number the passenger is going to \"exit\". Then, the function\n",
    "# counts up or down from the two floor numbers.\n",
    "def elevator_floor(enter, exit):\n",
    "    # The \"floor\" variable will be used as a counter and to  \n",
    "    # print the floor numbers. The \"elevator_direction\"\n",
    "    # variable will hold the string \"Going up: \" or \n",
    "    # \"Going down: \" plus the count up or down of the \n",
    "    # \"floor\" numbers.\n",
    "    floor = enter\n",
    "    elevator_direction = \"\"\n",
    "\n",
    "    # If the passenger enters the elevator on a floor that  \n",
    "    # is higher than the destination floor:\n",
    "    if enter > exit:\n",
    "        \n",
    "        # Then the \"elevator_direction\" string will be \n",
    "        # initialized with the string \"Going down: \".\n",
    "        elevator_direction = \"Going down: \"\n",
    "\n",
    "        # While the \"floor\" number is greater than or  \n",
    "        # equal to the exit floor number:\n",
    "        while floor >= exit:\n",
    "            # The \"floor\" number is converted to a string \n",
    "            # and is appended to the string variable \n",
    "            # \"elevator_direction\".\n",
    "            elevator_direction += str(floor)\n",
    "\n",
    "            # If the \"floor\" number is still greater than  \n",
    "            # the exit floor number:\n",
    "            if floor > exit:\n",
    "\n",
    "                # A pipe | character is added between each  \n",
    "                # floor number in the string variable  \n",
    "                # \"elevator_direction\" to provide a visual  \n",
    "                # divider between numbers. The if-statement \n",
    "                # above (if floor > exit) prevents the pipe \n",
    "                # character from appearing after the \"floor\" \n",
    "                # number is no longer greater than the \"exit\" \n",
    "                # variable. \n",
    "                elevator_direction += \" | \"\n",
    "                \n",
    "                # Decrement the \"floor\" number as the elevator \n",
    "                # goes down.\n",
    "            floor -= 1\n",
    "\n",
    "    # Else, it is implied that the passenger is entering the  \n",
    "    # elevator on a floor that is lower than the destination \n",
    "    # floor.\n",
    "    else:\n",
    "\n",
    "        # The \"elevator_direction\" string will be initialized \n",
    "        # with the string \"Going up: \".\n",
    "        elevator_direction = \"Going up: \"\n",
    "        \n",
    "        # While the \"floor\" number is less than or equal to the \n",
    "        # \"exit\" floor number:\n",
    "        while floor <= exit:\n",
    "\n",
    "            # Convert the the \"floor\" number to a string and append \n",
    "            # it to the string variable \"elevator_direction\".\n",
    "            elevator_direction += str(floor)\n",
    "\n",
    "            # If the entry floor number is still less than the exit \n",
    "            # floor number:\n",
    "            if floor < exit:\n",
    "\n",
    "                # The pipe | character is added between each  \n",
    "                # floor number in the string variable  \n",
    "                # \"elevator_direction\" to provide a visual  \n",
    "                # divider between numbers. The if-statement \n",
    "                # above (if floor < exit) prevents the pipe \n",
    "                # character from appearing after the \"floor\" \n",
    "                # number is no longer less than the \"exit\" \n",
    "                # variable. \n",
    "                elevator_direction += \" | \"\n",
    "\n",
    "            # Increments the \"floor\" number as the elevator goes up.\n",
    "            floor += 1\n",
    "\n",
    "    # Returns the string holding the elevator direction (Going down or \n",
    "    # Going up) along with the floor countdown or count up.\n",
    "    return elevator_direction\n",
    "\n",
    "\n",
    "# Call the function with 2 integer parameters. \n",
    "print(elevator_floor(1,4)) # Should print Going up: 1 | 2 | 3 | 4\n",
    "print(elevator_floor(6,2)) # Should print Going down: 6 | 5 | 4 | 3 | 2\n"
   ]
  },
  {
   "cell_type": "markdown",
   "id": "7449de9b",
   "metadata": {},
   "source": [
    "# Assessment"
   ]
  },
  {
   "cell_type": "markdown",
   "id": "d4d63c11",
   "metadata": {},
   "source": [
    "Fill in the blanks to print the numbers from 15 to 5, counting down by fives."
   ]
  },
  {
   "cell_type": "code",
   "execution_count": 53,
   "id": "5b29e4bc",
   "metadata": {},
   "outputs": [
    {
     "name": "stdout",
     "output_type": "stream",
     "text": [
      "15 10 5 "
     ]
    }
   ],
   "source": [
    "number = 15 # Initialize the variable\n",
    "while number >= 5: # Complete the while loop condition\n",
    "    print(number, end=\" \")\n",
    "    number -= 5 # Increment the variable\n",
    "\n",
    "# Should print 15 10 5 "
   ]
  },
  {
   "cell_type": "markdown",
   "id": "19c14aa0",
   "metadata": {},
   "source": [
    "Find and correct the error in the for loop below. The loop should print every even number from 2 to 12."
   ]
  },
  {
   "cell_type": "code",
   "execution_count": 54,
   "id": "58d90914",
   "metadata": {},
   "outputs": [
    {
     "name": "stdout",
     "output_type": "stream",
     "text": [
      "2\n",
      "4\n",
      "6\n",
      "8\n",
      "10\n",
      "12\n"
     ]
    }
   ],
   "source": [
    "for number in range(2, 13, 2):\n",
    "    print(number)\n",
    "\n",
    "# Should print:\n",
    "# 2\n",
    "# 4\n",
    "# 6\n",
    "# 8\n",
    "# 10\n",
    "# 12"
   ]
  },
  {
   "cell_type": "markdown",
   "id": "44759df5",
   "metadata": {},
   "source": [
    "Fill in the blanks to complete the function “even_numbers(n)”. This function should count how many even numbers exist in a sequence from 0 to the given “n”number, where 0 counts as an even number. For example, even_numbers(25) should return 13, and even_numbers(6) should return 4."
   ]
  },
  {
   "cell_type": "code",
   "execution_count": 55,
   "id": "1dadde56",
   "metadata": {},
   "outputs": [
    {
     "name": "stdout",
     "output_type": "stream",
     "text": [
      "13\n",
      "73\n",
      "501\n",
      "1\n"
     ]
    }
   ],
   "source": [
    "def even_numbers(n):\n",
    "    count = 0\n",
    "    current_number = 0\n",
    "    while current_number <= n: # Complete the while loop condition\n",
    "        if current_number % 2 == 0:\n",
    "            count += 1 # Increment the appropriate variable\n",
    "        current_number += 1 # Increment the appropriate variable\n",
    "    return count\n",
    "    \n",
    "print(even_numbers(25))   # Should print 13\n",
    "print(even_numbers(144))  # Should print 73\n",
    "print(even_numbers(1000)) # Should print 501\n",
    "print(even_numbers(0))    # Should print 1"
   ]
  },
  {
   "cell_type": "markdown",
   "id": "f0970802",
   "metadata": {},
   "source": [
    "Fill in the blanks to complete the “sequence” function. This function should print a sequence of numbers in descending order, from the given \"high\" variable to the given \"low\" variable.  The range should make the loop run two times. Complete the range sequences in the nested loops so that the “sequence(1, 3)” function call prints the following:"
   ]
  },
  {
   "cell_type": "code",
   "execution_count": 56,
   "id": "dd4bef38",
   "metadata": {},
   "outputs": [
    {
     "name": "stdout",
     "output_type": "stream",
     "text": [
      "3, 2, 1\n",
      "3, 2, 1\n"
     ]
    }
   ],
   "source": [
    "def sequence(low, high):\n",
    "    # Complete the outer loop range to make the loop run twice\n",
    "    # to create two rows\n",
    "    for x in range(2): \n",
    "        # Complete the inner loop range to print the given variable\n",
    "        # numbers starting from \"high\" to \"low\" \n",
    "        # Hint: To decrement a range parameter, use negative numbers\n",
    "        for y in range(high, low-1, -1): \n",
    "            if y == low:\n",
    "                # Don’t print a comma after the last item\n",
    "                print(str(y)) \n",
    "            else:\n",
    "                # Print a comma and a space between numbers\n",
    "                print(str(y), end=\", \") \n",
    "\n",
    "sequence(1, 3)\n",
    "# Should print the sequence 3, 2, 1 two times, as shown above."
   ]
  },
  {
   "cell_type": "markdown",
   "id": "c62ac01c",
   "metadata": {},
   "source": [
    "Fill in the blanks to complete the “countdown” function. This function should begin at the “start” variable, which is an integer that is passed to the function, and count down to 0. Complete the code so that a function call like “countdown(2)” will return the numbers “2,1,0”."
   ]
  },
  {
   "cell_type": "code",
   "execution_count": 57,
   "id": "c80154d8",
   "metadata": {},
   "outputs": [
    {
     "name": "stdout",
     "output_type": "stream",
     "text": [
      "Counting down to 0: 10,9,8,7,6,5,4,3,2,1,0\n",
      "Counting down to 0: 2,1,0\n",
      "Cannot count down to 0\n"
     ]
    }
   ],
   "source": [
    "def countdown(start):\n",
    "    x = start\n",
    "    if x > 0:\n",
    "        return_string = \"Counting down to 0: \"\n",
    "        while x >= 0: # Complete the while loop\n",
    "            return_string += str(x) # Add the numbers to the \"return_string\"\n",
    "            if x > 0:\n",
    "                return_string += \",\"\n",
    "            x -= 1 # Decrement the appropriate variable\n",
    "    else:\n",
    "        return_string = \"Cannot count down to 0\"\n",
    "    return return_string\n",
    "\n",
    "\n",
    "print(countdown(10)) # Should be \"Counting down to 0: 10,9,8,7,6,5,4,3,2,1,0\"\n",
    "print(countdown(2)) # Should be \"Counting down to 0: 2,1,0\"\n",
    "print(countdown(0)) # Should be \"Cannot count down to 0\""
   ]
  },
  {
   "cell_type": "markdown",
   "id": "0b53fad9",
   "metadata": {},
   "source": [
    "Fill in the blanks to complete the “even_numbers” function. This function should return a space-separated string of all positive even numbers, excluding 0, up to and including the “maximum” variable that's passed into the function. Complete the for loop so that a function call like “even_numbers(6)” will return the numbers “2 4 6”."
   ]
  },
  {
   "cell_type": "code",
   "execution_count": 58,
   "id": "80dc11b1",
   "metadata": {},
   "outputs": [
    {
     "name": "stdout",
     "output_type": "stream",
     "text": [
      "2 4 6\n",
      "2 4 6 8 10\n",
      "\n",
      "2\n",
      "\n"
     ]
    }
   ],
   "source": [
    "def even_numbers(maximum):\n",
    "\n",
    "    return_string = \"\" # Initializes variable as a string\n",
    "\n",
    "    # Complete the for loop with a range that includes all even numbers\n",
    "    # up to and including the \"maximum\" value, but excluding 0.\n",
    "    for number in range(2, maximum+1, 2): \n",
    "\n",
    "        # Complete the body of the loop by appending the even number\n",
    "        # followed by a space to the \"return_string\" variable.\n",
    "        return_string += str(number) + \" \"  \n",
    "\n",
    "    # This .strip command will remove the final \" \" space at the end of\n",
    "    # the \"return_string\".\n",
    "    return return_string.strip() \n",
    "\n",
    "print(even_numbers(6))  # Should be 2 4 6\n",
    "print(even_numbers(10)) # Should be 2 4 6 8 10\n",
    "print(even_numbers(1))  # No numbers displayed\n",
    "print(even_numbers(3))  # Should be 2\n",
    "print(even_numbers(0))  # No numbers displayed"
   ]
  },
  {
   "cell_type": "markdown",
   "id": "93c7b5fa",
   "metadata": {},
   "source": [
    "What happens when the Python interpreter executes a loop where a variable used inside the loop is not initialized?"
   ]
  },
  {
   "cell_type": "markdown",
   "id": "a9d31d8d",
   "metadata": {},
   "source": [
    "\n",
    "Will produce a NameError stating the variable is not defined"
   ]
  },
  {
   "cell_type": "markdown",
   "id": "114dab46",
   "metadata": {},
   "source": [
    "How many numbers will this loop print? Your answer should be only one number."
   ]
  },
  {
   "cell_type": "code",
   "execution_count": 59,
   "id": "1f17b85f",
   "metadata": {},
   "outputs": [
    {
     "name": "stdout",
     "output_type": "stream",
     "text": [
      "0\n",
      "2\n",
      "4\n",
      "6\n",
      "8\n"
     ]
    }
   ],
   "source": [
    "for sum in range(5):\n",
    "    sum += sum\n",
    "    print(sum)"
   ]
  },
  {
   "cell_type": "code",
   "execution_count": null,
   "id": "f38d5631",
   "metadata": {},
   "outputs": [],
   "source": []
  }
 ],
 "metadata": {
  "kernelspec": {
   "display_name": "Python 3 (ipykernel)",
   "language": "python",
   "name": "python3"
  },
  "language_info": {
   "codemirror_mode": {
    "name": "ipython",
    "version": 3
   },
   "file_extension": ".py",
   "mimetype": "text/x-python",
   "name": "python",
   "nbconvert_exporter": "python",
   "pygments_lexer": "ipython3",
   "version": "3.9.12"
  }
 },
 "nbformat": 4,
 "nbformat_minor": 5
}
