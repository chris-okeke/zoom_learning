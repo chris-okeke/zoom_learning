{
 "cells": [
  {
   "cell_type": "markdown",
   "id": "dcc17eea",
   "metadata": {},
   "source": [
    "Write a function called count_divisible_by_three that takes a positive integer n as input and counts the number of integers from 1 to n (inclusive) that are divisible by three."
   ]
  },
  {
   "cell_type": "code",
   "execution_count": null,
   "id": "131ba338",
   "metadata": {},
   "outputs": [],
   "source": []
  },
  {
   "cell_type": "markdown",
   "id": "20974c2d",
   "metadata": {},
   "source": [
    "write a function called print_numbers that takes a positive integer n as input and prints all the numbers from 1 to n."
   ]
  },
  {
   "cell_type": "code",
   "execution_count": null,
   "id": "a8dc535c",
   "metadata": {},
   "outputs": [],
   "source": []
  },
  {
   "cell_type": "markdown",
   "id": "8c07bf08",
   "metadata": {},
   "source": [
    "Write a block of code that can iterate over the numbers from 2 to 7 (inclusive). During each iteration of the loop, it calculates the square of the current number"
   ]
  },
  {
   "cell_type": "code",
   "execution_count": null,
   "id": "e1498260",
   "metadata": {},
   "outputs": [],
   "source": []
  },
  {
   "cell_type": "markdown",
   "id": "57fa8258",
   "metadata": {},
   "source": [
    "Write a block of code that can iterate over the numbers from 0 to 6 (inclusive). It then checks each number in the loop to see if it is even"
   ]
  },
  {
   "cell_type": "code",
   "execution_count": null,
   "id": "0cb3164f",
   "metadata": {},
   "outputs": [],
   "source": []
  }
 ],
 "metadata": {
  "kernelspec": {
   "display_name": "Python 3 (ipykernel)",
   "language": "python",
   "name": "python3"
  },
  "language_info": {
   "codemirror_mode": {
    "name": "ipython",
    "version": 3
   },
   "file_extension": ".py",
   "mimetype": "text/x-python",
   "name": "python",
   "nbconvert_exporter": "python",
   "pygments_lexer": "ipython3",
   "version": "3.11.4"
  }
 },
 "nbformat": 4,
 "nbformat_minor": 5
}
